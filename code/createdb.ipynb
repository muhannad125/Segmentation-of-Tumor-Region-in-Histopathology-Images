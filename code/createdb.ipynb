{
 "cells": [
  {
   "cell_type": "code",
   "execution_count": 1,
   "id": "60e9156b-488f-4cdf-976c-7c3aba659858",
   "metadata": {},
   "outputs": [],
   "source": [
    "import numpy as np\n",
    "import os \n",
    "import skimage.io as io\n",
    "from tqdm import tqdm\n",
    "import pandas as pd"
   ]
  },
  {
   "cell_type": "code",
   "execution_count": 2,
   "id": "af251b00-36f4-4985-9538-eda987ffd465",
   "metadata": {},
   "outputs": [],
   "source": [
    "PATH = os.path.join(os.getcwd(),\"data\",\"patch\")"
   ]
  },
  {
   "cell_type": "code",
   "execution_count": 3,
   "id": "f493a9ba-7b39-44bc-82ba-88b765d7f427",
   "metadata": {},
   "outputs": [],
   "source": [
    "# Lists and sorts the names of the folders located at the given path.\n",
    "folders = []\n",
    "for path in os.listdir(PATH):\n",
    "    if os.path.isdir(os.path.join(PATH, path)):\n",
    "          folders.append(path)\n",
    "\n",
    "folders.sort()"
   ]
  },
  {
   "cell_type": "code",
   "execution_count": 4,
   "id": "a4e826e7-ca7b-4a85-bba5-b2eb34b643a8",
   "metadata": {},
   "outputs": [],
   "source": [
    "def thresholding(img,threshold=0.8)\n",
    "    \"\"\"\n",
    "    Thresholds an image based on the presence and frequency of pixel values.\n",
    "    \n",
    "    Args:\n",
    "    img (numpy.ndarray): Input image.\n",
    "    threshold (float, optional): Threshold value. Default is 0.8.\n",
    "    \n",
    "    Returns:\n",
    "    int: Result of thresholding.\n",
    "    Returns 1 if the frequency of pixel value 1 is greater than the threshold,\n",
    "    Returns 0 if pixel value 1 is not found in the image,\n",
    "    Returns -1 if pixel value 1 is present in the image but below the threshold value.\n",
    "    \"\"\"\n",
    "\n",
    "    data = np.asarray(img)\n",
    "    v_counts = pd.Series(data.flatten()).value_counts()\n",
    "    v_counts = (v_counts/sum(v_counts))\n",
    "    if 1 in (v_counts.index.values) and v_counts[1] > 0.8:\n",
    "        return 1\n",
    "    elif 1 not in (v_counts.index.values):\n",
    "        return 0\n",
    "    else:\n",
    "        return -1"
   ]
  },
  {
   "cell_type": "code",
   "execution_count": 5,
   "id": "12447d29-ee69-4db9-a3f1-608b62d63b8f",
   "metadata": {},
   "outputs": [],
   "source": [
    "db = pd.DataFrame(columns=['name','img_path','mask_path','row','column','label'])"
   ]
  },
  {
   "cell_type": "code",
   "execution_count": 6,
   "id": "131e8120-ff37-446c-ab71-2db0e337fe93",
   "metadata": {},
   "outputs": [
    {
     "name": "stderr",
     "output_type": "stream",
     "text": [
      "100%|███████████████████████████████████████████████████████████████████████████████████| 6/6 [27:03<00:00, 270.51s/it]\n"
     ]
    }
   ],
   "source": [
    "for folder in tqdm(folders):\n",
    "    masks_path = os.path.join(PATH, folder,(folder+'_mask'))\n",
    "    images_path = os.path.join(PATH, folder,(folder+'_img')) \n",
    "    # Perform operations for each mask and image file. \n",
    "    for img_name in os.listdir(masks_path):\n",
    "        mask_path = os.path.join(masks_path,img_name)\n",
    "        img_path = os.path.join(images_path,img_name[:-8]+'img.png')\n",
    "        img = io.imread(mask_path)\n",
    "\n",
    "        # Determine the label by thresholding. \n",
    "        label = thresholding(img)\n",
    "\n",
    "        # Divides the patch into rows and columns.\n",
    "        row = img_name.split('_')[4]\n",
    "        col = img_name.split('_')[5]\n",
    "\n",
    "        # Örnek patch için gerekli bilgileri satır satır olarak oluşturur ve pandas Dataframe'ine ekler.\n",
    "        row = [[folder, img_path, mask_path, row , col, label]]\n",
    "        db = db = pd.concat([db, pd.DataFrame(row,columns=['name','img_path','mask_path','row','column','label'])], ignore_index=True)"
   ]
  },
  {
   "cell_type": "code",
   "execution_count": 7,
   "id": "ecab37e9-b6df-4b33-b12b-0e5246c2f58f",
   "metadata": {},
   "outputs": [],
   "source": [
    "db.to_csv(\"db.csv\", index=False)"
   ]
  },
  {
   "cell_type": "code",
   "execution_count": null,
   "id": "97045323-7e3b-45c3-89af-a5168cb437df",
   "metadata": {},
   "outputs": [],
   "source": []
  }
 ],
 "metadata": {
  "kernelspec": {
   "display_name": "Python 3 (ipykernel)",
   "language": "python",
   "name": "python3"
  },
  "language_info": {
   "codemirror_mode": {
    "name": "ipython",
    "version": 3
   },
   "file_extension": ".py",
   "mimetype": "text/x-python",
   "name": "python",
   "nbconvert_exporter": "python",
   "pygments_lexer": "ipython3",
   "version": "3.11.2"
  }
 },
 "nbformat": 4,
 "nbformat_minor": 5
}
