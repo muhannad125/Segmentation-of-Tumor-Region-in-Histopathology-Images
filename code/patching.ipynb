{
 "cells": [
  {
   "cell_type": "code",
   "execution_count": 10,
   "id": "d0c8d450-9ab2-4a6e-8dfe-f91bbd8da543",
   "metadata": {
    "scrolled": true
   },
   "outputs": [],
   "source": [
    "import numpy as np\n",
    "import os \n",
    "import skimage.io as io\n",
    "from PIL import Image\n",
    "import zipfile\n",
    "from tqdm import tqdm\n",
    "import pandas as pd\n",
    "import threading\n"
   ]
  },
  {
   "cell_type": "code",
   "execution_count": 2,
   "id": "88f0d860-969e-4455-9dde-465c1aff4061",
   "metadata": {},
   "outputs": [],
   "source": [
    "import os\n",
    "if hasattr(os, 'add_dll_directory'):\n",
    "    with os.add_dll_directory(r'C:\\Users\\emre\\Desktop\\Senior\\openslide-win64-20230414\\bin'):\n",
    "        import openslide\n",
    "else:\n",
    "    import openslide"
   ]
  },
  {
   "cell_type": "code",
   "execution_count": 3,
   "id": "89e6cd37-b8ff-48e5-9b7c-acdef928405f",
   "metadata": {},
   "outputs": [],
   "source": [
    "def check_background(img,upper=225, lower = 20):\n",
    "    \"\"\"\n",
    "    Checks whether the given patch image is a background image or not.\n",
    "    \n",
    "    Parameters:\n",
    "    img (numpy.ndarray): Image to be checked.\n",
    "    upper (int): Upper threshold value for background. Default value: 225.\n",
    "    lower (int): Lower threshold value for background. Default value: 20.\n",
    "    \n",
    "    Returns:\n",
    "    bool: Returns True if the image is background, False otherwise.\n",
    "    \"\"\"\n",
    "    if np.mean(img) > upper or np.mean(img) < lower:\n",
    "        return True\n",
    "    else:\n",
    "        return False"
   ]
  },
  {
   "cell_type": "code",
   "execution_count": 6,
   "id": "4b2b2f15-1e67-4466-9392-3675d7433d90",
   "metadata": {},
   "outputs": [],
   "source": [
    "def crop_and_save(i,j,folder,tile_size=256):\n",
    "    \"\"\"\n",
    "    Saves a region by cropping at specified coordinates.\n",
    "    \n",
    "    Parameters:\n",
    "    i (int): Starting column coordinate.\n",
    "    j (int): Starting row coordinate.\n",
    "    folder (str): Name of the folder to which the cropped region belongs.\n",
    "    tile_size (int): Size of the cropped region. Default value: 256.\n",
    "    \"\"\"\n",
    "    global wsi\n",
    "    global mask\n",
    "    global save_img_path\n",
    "    global save_mask_path\n",
    "\n",
    "    wsi_tile = wsi.read_region((i, j), 0, (tile_size, tile_size))\n",
    "    mask_tile = mask.crop((i, j, i+tile_size, j+tile_size))\n",
    "    if not (check_background(wsi_tile) or wsi_tile.size != (tile_size,tile_size)):       \n",
    "        wsi_tile_path = os.path.join(save_img_path,f\"{folder}_{i}_{j}_img.png\")\n",
    "        mask_tile_path = os.path.join(save_mask_path,f\"{folder}_{i}_{j}_mask.png\")\n",
    "        wsi_tile.save(wsi_tile_path)\n",
    "        mask_tile.save(mask_tile_path)"
   ]
  },
  {
   "cell_type": "code",
   "execution_count": 7,
   "id": "5bfdf311-209e-4773-9883-1c2daea3b13f",
   "metadata": {},
   "outputs": [],
   "source": [
    "def run_batch(i,s,e,folder,tile_size=256):\n",
    "  threadlist = []\n",
    "  for j in range(s,e,tile_size):\n",
    "    t = threading.Thread(target=crop_and_save,args=(i,j,folder,tile_size,))\n",
    "    threadlist.append(t)\n",
    "    t.start()\n",
    "\n",
    "  for tr in threadlist:\n",
    "    tr.join()"
   ]
  },
  {
   "cell_type": "code",
   "execution_count": null,
   "id": "8e3dd7d0-8c1d-4131-8efb-6176aa17eb76",
   "metadata": {},
   "outputs": [],
   "source": [
    "dir_path = os.path.join(os.getcwd(),'data','files') \n",
    "folders = [f for f in os.listdir(dir_path)]\n",
    "folders.sort()"
   ]
  },
  {
   "cell_type": "code",
   "execution_count": 12,
   "id": "2fa3b51c-9d74-4819-a292-053c6ae7c97a",
   "metadata": {
    "scrolled": true
   },
   "outputs": [
    {
     "name": "stderr",
     "output_type": "stream",
     "text": [
      "  0%|                                                                                            | 0/6 [00:00<?, ?it/s]"
     ]
    },
    {
     "name": "stdout",
     "output_type": "stream",
     "text": [
      "This stage is processing for Training_phase_2_045\n"
     ]
    },
    {
     "name": "stderr",
     "output_type": "stream",
     "text": [
      "100%|████████████████████████████████████████████████████████████████████████████████████| 6/6 [06:15<00:00, 62.55s/it]\n"
     ]
    }
   ],
   "source": [
    "# Path of the folder containing WSIs and their masks.\n",
    "dir_path = os.path.join(os.getcwd(),'data','files') \n",
    "\n",
    "folders = [f for f in os.listdir(dir_path)]\n",
    "folders.sort()\n",
    "# The path to the folder where patches will be saved after the patching process.\n",
    "patch_path = os.path.join(os.getcwd(),'data','patch') \n",
    "tile_size = 256\n",
    "\n",
    "for folder in tqdm(folders):\n",
    "\n",
    "  images_path = os.path.join(dir_path,folder)\n",
    "  wsi_path = [f for f in os.listdir(images_path)  if f.endswith(('svs','SVS'))][0]\n",
    "  wsi_path = os.path.join(images_path, wsi_path)\n",
    "  mask_path = [f for f in os.listdir(images_path) if f.endswith('viable.tif')][0]\n",
    "  mask_path = os.path.join(images_path, mask_path)\n",
    "\n",
    "  save_img_path = os.path.join(patch_path, folder , folder+'_img')\n",
    "  save_mask_path = os.path.join(patch_path, folder , folder+'_mask')\n",
    "  isExist = os.path.exists(save_img_path) and os.path.exists(save_mask_path)\n",
    "\n",
    "  if not isExist:\n",
    "    os.makedirs(save_img_path)\n",
    "    os.makedirs(save_mask_path)\n",
    "  else:\n",
    "    continue\n",
    "\n",
    "  tqdm.write(f\"This stage is processing for {folder}\")\n",
    "  wsi = openslide.open_slide(wsi_path)\n",
    "  mask = io.imread(mask_path)\n",
    "  mask = Image.fromarray(mask)  \n",
    "  width, height = wsi.dimensions\n",
    "\n",
    "  batch_size = 32\n",
    "  for i in range(0, width, tile_size):\n",
    "    for j in range(0, height, tile_size*batch_size):  \n",
    "      run_batch(i,j,j+(tile_size*batch_size),folder, tile_size=256)\n",
    "  \n"
   ]
  },
  {
   "cell_type": "code",
   "execution_count": null,
   "id": "37f7ed55-e674-4032-9826-091f887fc640",
   "metadata": {},
   "outputs": [],
   "source": []
  }
 ],
 "metadata": {
  "kernelspec": {
   "display_name": "Python 3 (ipykernel)",
   "language": "python",
   "name": "python3"
  },
  "language_info": {
   "codemirror_mode": {
    "name": "ipython",
    "version": 3
   },
   "file_extension": ".py",
   "mimetype": "text/x-python",
   "name": "python",
   "nbconvert_exporter": "python",
   "pygments_lexer": "ipython3",
   "version": "3.11.2"
  }
 },
 "nbformat": 4,
 "nbformat_minor": 5
}
